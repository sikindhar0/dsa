{
 "cells": [
  {
   "cell_type": "code",
   "execution_count": 16,
   "metadata": {},
   "outputs": [
    {
     "name": "stdout",
     "output_type": "stream",
     "text": [
      "7 8 9 \n",
      "\n",
      "7 8 "
     ]
    }
   ],
   "source": [
    "# Dynamic array\n",
    "\n",
    "class DynamicArray:\n",
    "    \n",
    "    def __init__(self, capacity: int):\n",
    "        self.capacity = capacity\n",
    "        self.length = 0\n",
    "        self.arr = [0] * self.capacity\n",
    "\n",
    "    def get(self, i: int) -> int:\n",
    "        return self.arr[i]\n",
    "\n",
    "    def set(self, i: int, n: int) -> None:\n",
    "        self.arr[i] = n\n",
    "\n",
    "    def pushback(self, n: int) -> None:\n",
    "        if self.length == self.capacity:\n",
    "            self.resize()\n",
    "\n",
    "        self.arr[self.length] = n\n",
    "        self.length += 1\n",
    "\n",
    "    def popback(self) -> int:\n",
    "        if self.length > 0:\n",
    "            self.length -= 1\n",
    "        return self.arr[self.length]\n",
    "\n",
    "    def resize(self) -> None:\n",
    "        self.capacity = 2 * self.capacity\n",
    "        new_arr = [0] * self.capacity \n",
    "        \n",
    "        for i in range(self.length):\n",
    "            new_arr[i] = self.arr[i]\n",
    "        self.arr = new_arr\n",
    "\n",
    "    def getSize(self) -> int:\n",
    "        return self.length\n",
    "    \n",
    "    def getCapacity(self) -> int:\n",
    "        return self.capacity\n",
    "\n",
    "\n",
    "\n",
    "arr = DynamicArray(5)\n",
    "\n",
    "arr.pushback(7)\n",
    "arr.pushback(8)\n",
    "arr.pushback(9)\n",
    "\n",
    "for i in range(arr.length):\n",
    "    print(arr.get(i),end=\" \")\n",
    "\n",
    "arr.popback()\n",
    "\n",
    "print(\"\\n\")\n",
    "for i in range(arr.length):\n",
    "    print(arr.get(i),end=\" \")\n"
   ]
  },
  {
   "cell_type": "code",
   "execution_count": null,
   "metadata": {},
   "outputs": [],
   "source": []
  }
 ],
 "metadata": {
  "kernelspec": {
   "display_name": "Python 3",
   "language": "python",
   "name": "python3"
  },
  "language_info": {
   "codemirror_mode": {
    "name": "ipython",
    "version": 3
   },
   "file_extension": ".py",
   "mimetype": "text/x-python",
   "name": "python",
   "nbconvert_exporter": "python",
   "pygments_lexer": "ipython3",
   "version": "3.11.2"
  },
  "orig_nbformat": 4
 },
 "nbformat": 4,
 "nbformat_minor": 2
}
