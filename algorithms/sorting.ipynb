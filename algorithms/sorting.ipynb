{
 "cells": [
  {
   "cell_type": "markdown",
   "metadata": {},
   "source": [
    "##### selection sort"
   ]
  },
  {
   "cell_type": "code",
   "execution_count": 9,
   "metadata": {},
   "outputs": [
    {
     "name": "stdout",
     "output_type": "stream",
     "text": [
      "[1, 2, 3, 5, 6, 8, 9, 55]\n"
     ]
    }
   ],
   "source": [
    "## Time complexity :\n",
    "#  O(n^2) - (best,worst,avg)\n",
    "\n",
    "def selection_sort(arr):\n",
    "    for i in range(len(arr)):\n",
    "        mini = i\n",
    "        for j in range(i+1,len(arr)):\n",
    "            if arr[j] < arr[mini]:\n",
    "                mini = j\n",
    "        arr[i],arr[mini] = arr[mini],arr[i]\n",
    "\n",
    "arr = [3,5,2,8,1,9,55,6]\n",
    "selection_sort(arr)\n",
    "print(arr)"
   ]
  },
  {
   "cell_type": "markdown",
   "metadata": {},
   "source": [
    "#### bubble sort"
   ]
  },
  {
   "cell_type": "code",
   "execution_count": 10,
   "metadata": {},
   "outputs": [
    {
     "name": "stdout",
     "output_type": "stream",
     "text": [
      "[1, 2, 3, 5, 6, 8, 9, 55]\n"
     ]
    }
   ],
   "source": [
    "## Time complexity: \n",
    "#  O(n^2) \n",
    "#  O(n) - if arr is already sorted ( when optimized )\n",
    "\n",
    "def bubble_sort(arr):\n",
    "    for i in range(len(arr)-1,-1,-1):\n",
    "        for j in range(0,i):\n",
    "            if arr[j]>arr[j+1]:\n",
    "                arr[j],arr[j+1] = arr[j+1],arr[j]\n",
    "\n",
    "\n",
    "#optimized \n",
    "def optimized_bubble_sort(arr):\n",
    "    for i in range(len(arr)-1,-1,-1):\n",
    "        swap = 0\n",
    "        for j in range(0,i):\n",
    "            if arr[j]>arr[j+1]:\n",
    "                arr[j],arr[j+1] = arr[j+1],arr[j]\n",
    "                swap +=1 \n",
    "        if swap == 0:\n",
    "            break\n",
    "            \n",
    "\n",
    "arr = [3,5,2,8,1,9,55,6]\n",
    "bubble_sort(arr)\n",
    "print(arr)"
   ]
  },
  {
   "cell_type": "markdown",
   "metadata": {},
   "source": [
    "#### insertion sort"
   ]
  },
  {
   "cell_type": "code",
   "execution_count": 11,
   "metadata": {},
   "outputs": [
    {
     "name": "stdout",
     "output_type": "stream",
     "text": [
      "[1, 2, 3, 5, 6, 8, 9, 55]\n"
     ]
    }
   ],
   "source": [
    "# Time Complexity\n",
    "# O(n^2) - worst/avg\n",
    "# O(n) - best\n",
    "\n",
    "def insertion_sort(arr):\n",
    "    for i in range(len(arr)):\n",
    "        j = i\n",
    "        while(j>0 and arr[j]<arr[j-1]):\n",
    "            arr[j],arr[j-1] = arr[j-1],arr[j]\n",
    "            j-=1\n",
    "\n",
    "\n",
    "arr = [3,5,2,8,1,9,55,6]\n",
    "insertion_sort(arr)\n",
    "print(arr)"
   ]
  },
  {
   "cell_type": "markdown",
   "metadata": {},
   "source": [
    "#### merge sort"
   ]
  },
  {
   "cell_type": "code",
   "execution_count": 12,
   "metadata": {},
   "outputs": [
    {
     "name": "stdout",
     "output_type": "stream",
     "text": [
      "[1, 1, 2, 2, 3, 4, 4, 5, 6]\n"
     ]
    }
   ],
   "source": [
    "# Time complexity : O(n * log n)\n",
    "# space complexity : O(n)\n",
    "\n",
    "\n",
    "def merge(arr,start,mid,end):\n",
    "    n1 = mid-start+1\n",
    "    n2 = end - mid\n",
    "\n",
    "    left_arr = [0] * (n1)\n",
    "    right_arr = [0] * (n2) \n",
    "\n",
    "    for i in range(0,n1):\n",
    "        left_arr[i] = arr[start + i]\n",
    "\n",
    "    for j in range(0,n2):\n",
    "        right_arr[j] = arr[mid+1+j]\n",
    "\n",
    "\n",
    "\n",
    "    i=0\n",
    "    j=0\n",
    "    k=start\n",
    "\n",
    "    while i<n1 and j<n2:\n",
    "        if left_arr[i] <= right_arr[j]:\n",
    "            arr[k] = left_arr[i]\n",
    "            i+=1\n",
    "        else:\n",
    "            arr[k] = right_arr[j]\n",
    "            j+=1\n",
    "        k+=1\n",
    "\n",
    "    while i<n1:\n",
    "        arr[k] = left_arr[i]\n",
    "        i+=1\n",
    "        k+=1\n",
    "    while j<n2:\n",
    "        arr[k] = right_arr[j]\n",
    "        j+=1\n",
    "        k+=1\n",
    "\n",
    "\n",
    "def merge_sort(arr,start,end):\n",
    "    if start < end:\n",
    "\n",
    "        mid = start+(end-start)//2\n",
    "        merge_sort(arr,start,mid)\n",
    "        merge_sort(arr,mid+1,end)\n",
    "        merge(arr,start,mid,end)\n",
    "\n",
    "\n",
    "arr = [3,1,2,4,1,5,2,6,4]\n",
    "# arr = [12, 11, 13, 5, 6, 7]\n",
    "n = len(arr)\n",
    "merge_sort(arr,0,n-1)\n",
    "print(arr)\n"
   ]
  },
  {
   "cell_type": "markdown",
   "metadata": {},
   "source": [
    "#### quick sort"
   ]
  },
  {
   "cell_type": "code",
   "execution_count": 13,
   "metadata": {},
   "outputs": [
    {
     "name": "stdout",
     "output_type": "stream",
     "text": [
      "[1, 1, 2, 2, 3, 4, 4, 5, 6]\n"
     ]
    }
   ],
   "source": [
    "# Time complexity: O(n * log n)\n",
    "# space complexity : O(1)\n",
    "\n",
    "def f(arr,low,high):\n",
    "\n",
    "    pivot = arr[low]\n",
    "    i = low\n",
    "    j = high\n",
    "\n",
    "    while i < j:\n",
    "        while arr[i] <= pivot and i < high:\n",
    "            i+=1\n",
    "        while arr[j] > pivot and j > low:\n",
    "            j-=1\n",
    "        \n",
    "        if i < j:\n",
    "            arr[i],arr[j] = arr[j],arr[i]\n",
    "\n",
    "    arr[j],arr[low] = arr[low],arr[j]\n",
    "    return j\n",
    "\n",
    "\n",
    "\n",
    "\n",
    "def quick_sort(arr,low,high):\n",
    "    if low < high:\n",
    "        pindex = f(arr,low,high)\n",
    "        quick_sort(arr,low,pindex-1)\n",
    "        quick_sort(arr,pindex+1,high)\n",
    "\n",
    "\n",
    "\n",
    "arr = [3,1,2,4,1,5,2,6,4]\n",
    "n = len(arr)\n",
    "quick_sort(arr,0,n-1)\n",
    "print(arr)\n"
   ]
  },
  {
   "cell_type": "code",
   "execution_count": null,
   "metadata": {},
   "outputs": [],
   "source": []
  },
  {
   "cell_type": "code",
   "execution_count": null,
   "metadata": {},
   "outputs": [],
   "source": []
  },
  {
   "cell_type": "code",
   "execution_count": null,
   "metadata": {},
   "outputs": [],
   "source": []
  }
 ],
 "metadata": {
  "kernelspec": {
   "display_name": "Python 3",
   "language": "python",
   "name": "python3"
  },
  "language_info": {
   "codemirror_mode": {
    "name": "ipython",
    "version": 3
   },
   "file_extension": ".py",
   "mimetype": "text/x-python",
   "name": "python",
   "nbconvert_exporter": "python",
   "pygments_lexer": "ipython3",
   "version": "3.11.2"
  },
  "orig_nbformat": 4
 },
 "nbformat": 4,
 "nbformat_minor": 2
}
