{
 "cells": [
  {
   "cell_type": "markdown",
   "metadata": {},
   "source": [
    "##### selection sort"
   ]
  },
  {
   "cell_type": "code",
   "execution_count": 13,
   "metadata": {},
   "outputs": [
    {
     "name": "stdout",
     "output_type": "stream",
     "text": [
      "[1, 2, 3, 5, 6, 8, 9, 55]\n"
     ]
    }
   ],
   "source": [
    "## Time complexity :\n",
    "#  O(n^2) - (best,worst,avg)\n",
    "\n",
    "def selection_sort(arr):\n",
    "    for i in range(len(arr)):\n",
    "        mini = i\n",
    "        for j in range(i+1,len(arr)):\n",
    "            if arr[j] < arr[mini]:\n",
    "                mini = j\n",
    "        arr[i],arr[mini] = arr[mini],arr[i]\n",
    "\n",
    "arr = [3,5,2,8,1,9,55,6]\n",
    "selection_sort(arr)\n",
    "print(arr)"
   ]
  },
  {
   "cell_type": "markdown",
   "metadata": {},
   "source": [
    "#### bubble sort"
   ]
  },
  {
   "cell_type": "code",
   "execution_count": 5,
   "metadata": {},
   "outputs": [
    {
     "name": "stdout",
     "output_type": "stream",
     "text": [
      "[1, 2, 3, 5, 6, 8, 9, 55]\n"
     ]
    }
   ],
   "source": [
    "## Time complexity: \n",
    "#  O(n^2) \n",
    "#  O(n) - if arr is already sorted ( when optimized )\n",
    "\n",
    "def bubble_sort(arr):\n",
    "    for i in range(len(arr)-1,-1,-1):\n",
    "        for j in range(0,i):\n",
    "            if arr[j]>arr[j+1]:\n",
    "                arr[j],arr[j+1] = arr[j+1],arr[j]\n",
    "\n",
    "\n",
    "#optimized \n",
    "def optimized_bubble_sort(arr):\n",
    "    for i in range(len(arr)-1,-1,-1):\n",
    "        swap = 0\n",
    "        for j in range(0,i):\n",
    "            if arr[j]>arr[j+1]:\n",
    "                arr[j],arr[j+1] = arr[j+1],arr[j]\n",
    "                swap +=1 \n",
    "        if swap == 0:\n",
    "            break\n",
    "            \n",
    "\n",
    "arr = [3,5,2,8,1,9,55,6]\n",
    "bubble_sort(arr)\n",
    "print(arr)"
   ]
  },
  {
   "cell_type": "markdown",
   "metadata": {},
   "source": [
    "#### insertion sort"
   ]
  },
  {
   "cell_type": "code",
   "execution_count": 6,
   "metadata": {},
   "outputs": [
    {
     "name": "stdout",
     "output_type": "stream",
     "text": [
      "[1, 2, 3, 5, 6, 8, 9, 55]\n"
     ]
    }
   ],
   "source": [
    "# Time Complexity\n",
    "# O(n^2) - worst/avg\n",
    "# O(n) - best\n",
    "\n",
    "def insertion_sort(arr):\n",
    "    for i in range(len(arr)):\n",
    "        j = i\n",
    "        while(j>0 and arr[j]<arr[j-1]):\n",
    "            arr[j],arr[j-1] = arr[j-1],arr[j]\n",
    "            j-=1\n",
    "\n",
    "\n",
    "arr = [3,5,2,8,1,9,55,6]\n",
    "insertion_sort(arr)\n",
    "print(arr)"
   ]
  },
  {
   "cell_type": "code",
   "execution_count": null,
   "metadata": {},
   "outputs": [],
   "source": []
  }
 ],
 "metadata": {
  "kernelspec": {
   "display_name": "Python 3",
   "language": "python",
   "name": "python3"
  },
  "language_info": {
   "codemirror_mode": {
    "name": "ipython",
    "version": 3
   },
   "file_extension": ".py",
   "mimetype": "text/x-python",
   "name": "python",
   "nbconvert_exporter": "python",
   "pygments_lexer": "ipython3",
   "version": "3.11.2"
  },
  "orig_nbformat": 4
 },
 "nbformat": 4,
 "nbformat_minor": 2
}
